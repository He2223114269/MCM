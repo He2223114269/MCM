{
 "cells": [
  {
   "cell_type": "code",
   "execution_count": 2,
   "id": "8be79095",
   "metadata": {},
   "outputs": [
    {
     "name": "stdout",
     "output_type": "stream",
     "text": [
      "缺失值统计：\n",
      " 指标          0\n",
      "粮食产量        0\n",
      "农作物受灾面积     0\n",
      "平均温度        0\n",
      "农业总产值       0\n",
      "平均降雨量       0\n",
      "农业机械总动力     0\n",
      "农药使用量       0\n",
      "第一产业就业人员    0\n",
      "dtype: int64\n",
      "异常值统计：\n",
      "     feature number_of_outliers\n",
      "0        指标                  0\n",
      "1      粮食产量                  1\n",
      "2   农作物受灾面积                  1\n",
      "3      平均温度                  0\n",
      "4     农业总产值                  0\n",
      "5     平均降雨量                  0\n",
      "6   农业机械总动力                  0\n",
      "7     农药使用量                  0\n",
      "8  第一产业就业人员                  0\n"
     ]
    }
   ],
   "source": [
    "import pandas as pd\n",
    "\n",
    "# 1. 检测缺失值\n",
    "# 加载数据\n",
    "data = pd.read_excel(\"数据.xlsx\")\n",
    "\n",
    "# 检测缺失值\n",
    "missing_values = data.isnull().sum()  # 统计每列的缺失值数量\n",
    "print(\"缺失值统计：\\n\", missing_values)\n",
    "\n",
    "# 2. 检测异常值\n",
    "# 以数值列为例\n",
    "numerical_columns = data.select_dtypes(include=['int', 'float']).columns\n",
    "\n",
    "# 使用箱线图检测异常值\n",
    "def detect_outliers(data):\n",
    "    outliers = pd.DataFrame(columns=['feature', 'number_of_outliers'])\n",
    "    for column in numerical_columns:\n",
    "        Q1 = data[column].quantile(0.25)\n",
    "        Q3 = data[column].quantile(0.75)\n",
    "        IQR = Q3 - Q1\n",
    "        lower_bound = Q1 - 1.5 * IQR\n",
    "        upper_bound = Q3 + 1.5 * IQR\n",
    "        outliers = outliers.append({'feature': column, 'number_of_outliers': data[(data[column] < lower_bound) | (data[column] > upper_bound)].shape[0]}, ignore_index=True)\n",
    "    return outliers\n",
    "\n",
    "outliers = detect_outliers(data)\n",
    "print(\"异常值统计：\\n\", outliers)\n"
   ]
  },
  {
   "cell_type": "code",
   "execution_count": null,
   "id": "0b701c47",
   "metadata": {},
   "outputs": [],
   "source": [
    "import pandas as pd\n",
    "from sklearn.impute import SimpleImputer\n",
    "from sklearn.preprocessing import RobustScaler\n",
    "\n",
    "# 1. 加载数据\n",
    "data = pd.read_excel(\"数据.xlsx\")\n",
    "\n",
    "# 2. 检测并替换异常值\n",
    "def replace_outliers(data):\n",
    "    numerical_columns = data.select_dtypes(include=['int', 'float']).columns\n",
    "    for column in numerical_columns:\n",
    "        Q1 = data[column].quantile(0.25)\n",
    "        Q3 = data[column].quantile(0.75)\n",
    "        IQR = Q3 - Q1\n",
    "        lower_bound = Q1 - 1.5 * IQR\n",
    "        upper_bound = Q3 + 1.5 * IQR\n",
    "        data[column] = data[column].mask((data[column] < lower_bound) | (data[column] > upper_bound), data[column].median())\n",
    "    return data\n",
    "\n",
    "data = replace_outliers(data)\n",
    "\n",
    "# 3. 使用插值法处理缺失值\n",
    "imputer = SimpleImputer(strategy=\"linear\")  # 这里使用线性插值，也可以选择其他插值方法\n",
    "data_filled = pd.DataFrame(imputer.fit_transform(data), columns=data.columns)\n",
    "\n",
    "# 4. 特征缩放\n",
    "scaler = RobustScaler()  # 使用RobustScaler来缩放数据，对异常值更加鲁棒\n",
    "data_scaled = scaler.fit_transform(data_filled)\n",
    "\n",
    "# 将缩放后的数据放回DataFrame\n",
    "data_filled = pd.DataFrame(data_scaled, columns=data_filled.columns)\n",
    "\n",
    "# 输出处理后的数据\n",
    "print(data_filled.head())\n"
   ]
  },
  {
   "cell_type": "code",
   "execution_count": null,
   "id": "e06d1eb4",
   "metadata": {},
   "outputs": [],
   "source": []
  },
  {
   "cell_type": "code",
   "execution_count": null,
   "id": "32450396",
   "metadata": {},
   "outputs": [],
   "source": []
  },
  {
   "cell_type": "code",
   "execution_count": null,
   "id": "4cf16112",
   "metadata": {},
   "outputs": [],
   "source": []
  }
 ],
 "metadata": {
  "kernelspec": {
   "display_name": "Python 3 (ipykernel)",
   "language": "python",
   "name": "python3"
  },
  "language_info": {
   "codemirror_mode": {
    "name": "ipython",
    "version": 3
   },
   "file_extension": ".py",
   "mimetype": "text/x-python",
   "name": "python",
   "nbconvert_exporter": "python",
   "pygments_lexer": "ipython3",
   "version": "3.7.2"
  },
  "toc": {
   "base_numbering": 1,
   "nav_menu": {},
   "number_sections": true,
   "sideBar": true,
   "skip_h1_title": false,
   "title_cell": "Table of Contents",
   "title_sidebar": "Contents",
   "toc_cell": false,
   "toc_position": {},
   "toc_section_display": true,
   "toc_window_display": false
  },
  "varInspector": {
   "cols": {
    "lenName": 16,
    "lenType": 16,
    "lenVar": 40
   },
   "kernels_config": {
    "python": {
     "delete_cmd_postfix": "",
     "delete_cmd_prefix": "del ",
     "library": "var_list.py",
     "varRefreshCmd": "print(var_dic_list())"
    },
    "r": {
     "delete_cmd_postfix": ") ",
     "delete_cmd_prefix": "rm(",
     "library": "var_list.r",
     "varRefreshCmd": "cat(var_dic_list()) "
    }
   },
   "types_to_exclude": [
    "module",
    "function",
    "builtin_function_or_method",
    "instance",
    "_Feature"
   ],
   "window_display": false
  }
 },
 "nbformat": 4,
 "nbformat_minor": 5
}
