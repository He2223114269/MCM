{
 "cells": [
  {
   "cell_type": "code",
   "execution_count": 8,
   "id": "8bcf8d20",
   "metadata": {},
   "outputs": [],
   "source": [
    "import numpy as np\n",
    "\n",
    "def get_corners(rect):\n",
    "    \"\"\"获取矩形的四个顶点坐标\"\"\"\n",
    "    cx, cy, w, h, angle = rect\n",
    "    angle = np.deg2rad(angle)\n",
    "    cos_a = np.cos(angle)\n",
    "    sin_a = np.sin(angle)\n",
    "    \n",
    "    dx = w / 2\n",
    "    dy = h / 2\n",
    "    \n",
    "    # 矩形的四个顶点\n",
    "    corners = [\n",
    "        (cx - dx * cos_a + dy * sin_a, cy - dx * sin_a - dy * cos_a),  # top-left\n",
    "        (cx + dx * cos_a + dy * sin_a, cy + dx * sin_a - dy * cos_a),  # top-right\n",
    "        (cx + dx * cos_a - dy * sin_a, cy + dx * sin_a + dy * cos_a),  # bottom-right\n",
    "        (cx - dx * cos_a - dy * sin_a, cy - dx * sin_a + dy * cos_a)   # bottom-left\n",
    "    ]\n",
    "    return corners\n",
    "\n",
    "def project_polygon(axis, corners):\n",
    "    \"\"\"将多边形投影到轴上并返回最小和最大投影\"\"\"\n",
    "    dots = [np.dot(axis, corner) for corner in corners]\n",
    "    return min(dots), max(dots)\n",
    "\n",
    "def is_separating_axis(axis, corners1, corners2):\n",
    "    \"\"\"检查是否存在分离轴\"\"\"\n",
    "    min1, max1 = project_polygon(axis, corners1)\n",
    "    min2, max2 = project_polygon(axis, corners2)\n",
    "    return max1 < min2 or max2 < min1\n",
    "\n",
    "def check_collision(rect1, rect2):\n",
    "    \"\"\"使用SAT检测两个旋转矩形是否碰撞\"\"\"\n",
    "    corners1 = get_corners(rect1)\n",
    "    corners2 = get_corners(rect2)\n",
    "    \n",
    "    # 矩形1和矩形2的边\n",
    "    edges = [\n",
    "        np.subtract(corners1[1], corners1[0]),\n",
    "        np.subtract(corners1[1], corners1[2]),\n",
    "        np.subtract(corners2[1], corners2[0]),\n",
    "        np.subtract(corners2[1], corners2[2])\n",
    "    ]\n",
    "    \n",
    "    # 检查每条边的法向量作为分离轴\n",
    "    for edge in edges:\n",
    "        axis = np.array([-edge[1], edge[0]])  # 计算法向量\n",
    "        if is_separating_axis(axis, corners1, corners2):\n",
    "            return False  # 找到分离轴，矩形不碰撞\n",
    "    \n",
    "    return True  # 没有分离轴，矩形碰撞\n",
    "\n",
    "# 示例矩形\n",
    "rect1 = (2.5, 2.5, 3, 2, 30)  # 中心 (2.5, 2.5)，宽3，高2，旋转30度\n",
    "rect2 = (4.5, 2.5, 2, 2, -30) # 中心 (4.5, 2.5)，宽2，高2，旋转-30度\n",
    "\n",
    "collision = check_collision(rect1, rect2)\n",
    "print(\"Collision:\", collision)  # 输出: True or False depending on the collision status\n"
   ]
  },
  {
   "cell_type": "code",
   "execution_count": 33,
   "id": "520c69f1",
   "metadata": {},
   "outputs": [
    {
     "data": {
      "image/png": "[encoded data removed]",
      "text/plain": [
       "<Figure size 640x480 with 1 Axes>"
      ]
     },
     "metadata": {},
     "output_type": "display_data"
    }
   ],
   "source": [
    "import numpy as np\n",
    "import matplotlib.pyplot as plt\n",
    "\n",
    "# 获取矩形顶点\n",
    "def get_corners(rect):\n",
    "    cx, cy, w, h, angle = rect\n",
    "    angle = angle #np.deg2rad(angle)\n",
    "    cos_a = np.cos(angle)\n",
    "    sin_a = np.sin(angle)\n",
    "    \n",
    "    dx = w / 2\n",
    "    dy = h / 2\n",
    "    \n",
    "    corners = [\n",
    "        (cx - dx * cos_a + dy * sin_a, cy - dx * sin_a - dy * cos_a),  # top-left\n",
    "        (cx + dx * cos_a + dy * sin_a, cy + dx * sin_a - dy * cos_a),  # top-right\n",
    "        (cx + dx * cos_a - dy * sin_a, cy + dx * sin_a + dy * cos_a),  # bottom-right\n",
    "        (cx - dx * cos_a - dy * sin_a, cy - dx * sin_a + dy * cos_a)   # bottom-left\n",
    "    ]\n",
    "    return corners\n",
    "\n",
    "# 绘制矩形\n",
    "def draw_rectangle(ax, rect, color, label):\n",
    "    corners = get_corners(rect)\n",
    "    polygon = plt.Polygon(corners, closed=True, edgecolor=color, facecolor='none', linewidth=2, label=label)\n",
    "    ax.add_patch(polygon)\n",
    "\n",
    "# 矩形定义\n",
    "rect1 = (2.5, 2.5, 3, 2, 0)  # 中心 (2.5, 2.5)，宽3，高2，旋转30度\n",
    "rect2 = (4.5, 2.5, 2, 2, -30) # 中心 (4.5, 2.5)，宽2，高2，旋转-30度\n",
    "\n",
    "# 创建图形\n",
    "fig, ax = plt.subplots()\n",
    "\n",
    "# 绘制矩形\n",
    "draw_rectangle(ax, rect1, 'r', 'Rectangle 1')\n",
    "draw_rectangle(ax, rect2, 'b', 'Rectangle 2')\n",
    "# draw_rectangle(ax, rect3, 'g', 'Rectangle 3')\n",
    "\n",
    "# 设置坐标轴范围\n",
    "ax.set_xlim(0, 7)\n",
    "ax.set_ylim(0, 5)\n",
    "\n",
    "# 设置坐标轴标签\n",
    "ax.set_xlabel('X')\n",
    "ax.set_ylabel('Y')\n",
    "\n",
    "# 添加图例\n",
    "ax.legend()\n",
    "\n",
    "# 显示网格\n",
    "# ax.grid(false)\n",
    "\n",
    "# 显示图像\n",
    "plt.gca().set_aspect('equal', adjustable='box')\n",
    "plt.show()"
   ]
  },
  {
   "cell_type": "code",
   "execution_count": null,
   "id": "cbec648d",
   "metadata": {},
   "outputs": [],
   "source": [
    "def dragon_head_rect(x1,x2,y1,y2,angle):\n",
    "    dragon_head_rect = ((x1+x2)/2,(y1+y2),3.41,0.3,angle)\n",
    "    return dragon_head_rect\n",
    "dragon_head_rect = ()"
   ]
  }
 ],
 "metadata": {
  "kernelspec": {
   "display_name": "Python 3 (ipykernel)",
   "language": "python",
   "name": "python3"
  },
  "language_info": {
   "codemirror_mode": {
    "name": "ipython",
    "version": 3
   },
   "file_extension": ".py",
   "mimetype": "text/x-python",
   "name": "python",
   "nbconvert_exporter": "python",
   "pygments_lexer": "ipython3",
   "version": "3.7.2"
  },
  "toc": {
   "base_numbering": 1,
   "nav_menu": {},
   "number_sections": true,
   "sideBar": true,
   "skip_h1_title": false,
   "title_cell": "Table of Contents",
   "title_sidebar": "Contents",
   "toc_cell": false,
   "toc_position": {},
   "toc_section_display": true,
   "toc_window_display": false
  },
  "varInspector": {
   "cols": {
    "lenName": 16,
    "lenType": 16,
    "lenVar": 40
   },
   "kernels_config": {
    "python": {
     "delete_cmd_postfix": "",
     "delete_cmd_prefix": "del ",
     "library": "var_list.py",
     "varRefreshCmd": "print(var_dic_list())"
    },
    "r": {
     "delete_cmd_postfix": ") ",
     "delete_cmd_prefix": "rm(",
     "library": "var_list.r",
     "varRefreshCmd": "cat(var_dic_list()) "
    }
   },
   "types_to_exclude": [
    "module",
    "function",
    "builtin_function_or_method",
    "instance",
    "_Feature"
   ],
   "window_display": false
  }
 },
 "nbformat": 4,
 "nbformat_minor": 5
}
